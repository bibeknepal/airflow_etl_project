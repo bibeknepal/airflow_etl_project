{
 "cells": [
  {
   "cell_type": "code",
   "execution_count": 33,
   "id": "ebbf5af6-a796-45d2-980f-70f0f8c814fb",
   "metadata": {},
   "outputs": [],
   "source": [
    "import psycopg2\n",
    "import pandas as pd\n",
    "import numpy as np\n",
    "from sklearn import metrics\n",
    "import matplotlib.pyplot as plt\n",
    "from sklearn.model_selection import train_test_split\n",
    "from sklearn.linear_model import LinearRegression\n",
    "from sklearn.metrics import confusion_matrix,accuracy_score\n",
    "import math"
   ]
  },
  {
   "cell_type": "code",
   "execution_count": 34,
   "id": "ba52d332-2cc2-4d48-9d74-729620d5a400",
   "metadata": {},
   "outputs": [],
   "source": [
    "def connect_database():\n",
    "    try:\n",
    "        conn = psycopg2.connect(\n",
    "            host = 'localhost',\n",
    "            dbname = 'stock_data',\n",
    "            user = 'bibek',\n",
    "            password = 'bibek')\n",
    "        cur = conn.cursor()\n",
    "        conn.autocommit = True\n",
    "        print(\"Database Connected Successfully\")\n",
    "        return conn,cur\n",
    "    except Exception as e:\n",
    "        print(f\"Cannot Connect to database: {e}\")"
   ]
  },
  {
   "cell_type": "code",
   "execution_count": 35,
   "id": "9df577c9-d52c-424e-a60c-77531d04bddb",
   "metadata": {},
   "outputs": [
    {
     "name": "stdout",
     "output_type": "stream",
     "text": [
      "Database Connected Successfully\n"
     ]
    }
   ],
   "source": [
    "conn, cur = connect_database()"
   ]
  },
  {
   "cell_type": "code",
   "execution_count": 36,
   "id": "48a9aca0-5dbf-49b7-a5e0-8d1fbbd566c8",
   "metadata": {},
   "outputs": [
    {
     "data": {
      "text/html": [
       "<div>\n",
       "<style scoped>\n",
       "    .dataframe tbody tr th:only-of-type {\n",
       "        vertical-align: middle;\n",
       "    }\n",
       "\n",
       "    .dataframe tbody tr th {\n",
       "        vertical-align: top;\n",
       "    }\n",
       "\n",
       "    .dataframe thead th {\n",
       "        text-align: right;\n",
       "    }\n",
       "</style>\n",
       "<table border=\"1\" class=\"dataframe\">\n",
       "  <thead>\n",
       "    <tr style=\"text-align: right;\">\n",
       "      <th></th>\n",
       "      <th>0</th>\n",
       "      <th>1</th>\n",
       "      <th>2</th>\n",
       "      <th>3</th>\n",
       "      <th>4</th>\n",
       "      <th>5</th>\n",
       "    </tr>\n",
       "  </thead>\n",
       "  <tbody>\n",
       "    <tr>\n",
       "      <th>0</th>\n",
       "      <td>2010-05-09</td>\n",
       "      <td>1840.0</td>\n",
       "      <td>1840.0</td>\n",
       "      <td>1840.0</td>\n",
       "      <td>60</td>\n",
       "      <td>0.11</td>\n",
       "    </tr>\n",
       "    <tr>\n",
       "      <th>1</th>\n",
       "      <td>2010-05-10</td>\n",
       "      <td>1930.0</td>\n",
       "      <td>1876.0</td>\n",
       "      <td>1927.0</td>\n",
       "      <td>208</td>\n",
       "      <td>4.73</td>\n",
       "    </tr>\n",
       "    <tr>\n",
       "      <th>2</th>\n",
       "      <td>2010-05-11</td>\n",
       "      <td>2005.0</td>\n",
       "      <td>1900.0</td>\n",
       "      <td>2005.0</td>\n",
       "      <td>826</td>\n",
       "      <td>4.05</td>\n",
       "    </tr>\n",
       "    <tr>\n",
       "      <th>3</th>\n",
       "      <td>2010-05-12</td>\n",
       "      <td>2150.0</td>\n",
       "      <td>2010.0</td>\n",
       "      <td>2100.0</td>\n",
       "      <td>953</td>\n",
       "      <td>4.74</td>\n",
       "    </tr>\n",
       "    <tr>\n",
       "      <th>4</th>\n",
       "      <td>2010-05-13</td>\n",
       "      <td>2310.0</td>\n",
       "      <td>2142.0</td>\n",
       "      <td>2200.0</td>\n",
       "      <td>1750</td>\n",
       "      <td>4.76</td>\n",
       "    </tr>\n",
       "    <tr>\n",
       "      <th>...</th>\n",
       "      <td>...</td>\n",
       "      <td>...</td>\n",
       "      <td>...</td>\n",
       "      <td>...</td>\n",
       "      <td>...</td>\n",
       "      <td>...</td>\n",
       "    </tr>\n",
       "    <tr>\n",
       "      <th>3055</th>\n",
       "      <td>2023-11-05</td>\n",
       "      <td>573.0</td>\n",
       "      <td>564.0</td>\n",
       "      <td>566.0</td>\n",
       "      <td>50715</td>\n",
       "      <td>-1.2</td>\n",
       "    </tr>\n",
       "    <tr>\n",
       "      <th>3056</th>\n",
       "      <td>2023-11-06</td>\n",
       "      <td>577.0</td>\n",
       "      <td>567.0</td>\n",
       "      <td>568.0</td>\n",
       "      <td>29139</td>\n",
       "      <td>0.35</td>\n",
       "    </tr>\n",
       "    <tr>\n",
       "      <th>3057</th>\n",
       "      <td>2023-11-07</td>\n",
       "      <td>577.8</td>\n",
       "      <td>567.0</td>\n",
       "      <td>569.9</td>\n",
       "      <td>32456</td>\n",
       "      <td>0.33</td>\n",
       "    </tr>\n",
       "    <tr>\n",
       "      <th>3058</th>\n",
       "      <td>2023-11-08</td>\n",
       "      <td>575.0</td>\n",
       "      <td>568.0</td>\n",
       "      <td>571.5</td>\n",
       "      <td>28864</td>\n",
       "      <td>0.28</td>\n",
       "    </tr>\n",
       "    <tr>\n",
       "      <th>3059</th>\n",
       "      <td>2023-11-09</td>\n",
       "      <td>571.5</td>\n",
       "      <td>569.0</td>\n",
       "      <td>569.2</td>\n",
       "      <td>25721</td>\n",
       "      <td>-0.4</td>\n",
       "    </tr>\n",
       "  </tbody>\n",
       "</table>\n",
       "<p>3060 rows × 6 columns</p>\n",
       "</div>"
      ],
      "text/plain": [
       "               0       1       2       3      4     5\n",
       "0     2010-05-09  1840.0  1840.0  1840.0     60  0.11\n",
       "1     2010-05-10  1930.0  1876.0  1927.0    208  4.73\n",
       "2     2010-05-11  2005.0  1900.0  2005.0    826  4.05\n",
       "3     2010-05-12  2150.0  2010.0  2100.0    953  4.74\n",
       "4     2010-05-13  2310.0  2142.0  2200.0   1750  4.76\n",
       "...          ...     ...     ...     ...    ...   ...\n",
       "3055  2023-11-05   573.0   564.0   566.0  50715  -1.2\n",
       "3056  2023-11-06   577.0   567.0   568.0  29139  0.35\n",
       "3057  2023-11-07   577.8   567.0   569.9  32456  0.33\n",
       "3058  2023-11-08   575.0   568.0   571.5  28864  0.28\n",
       "3059  2023-11-09   571.5   569.0   569.2  25721  -0.4\n",
       "\n",
       "[3060 rows x 6 columns]"
      ]
     },
     "execution_count": 36,
     "metadata": {},
     "output_type": "execute_result"
    }
   ],
   "source": [
    "cur.execute('Select * from nabil_bank')\n",
    "data = cur.fetchall()\n",
    "df = pd.DataFrame(data)\n",
    "df"
   ]
  },
  {
   "cell_type": "code",
   "execution_count": 37,
   "id": "47e3403c-b782-48d4-8c22-aa8b6ffd3550",
   "metadata": {},
   "outputs": [
    {
     "name": "stdout",
     "output_type": "stream",
     "text": [
      "<class 'pandas.core.frame.DataFrame'>\n",
      "RangeIndex: 3060 entries, 0 to 3059\n",
      "Data columns (total 6 columns):\n",
      " #   Column  Non-Null Count  Dtype \n",
      "---  ------  --------------  ----- \n",
      " 0   0       3060 non-null   object\n",
      " 1   1       3060 non-null   object\n",
      " 2   2       3060 non-null   object\n",
      " 3   3       3060 non-null   object\n",
      " 4   4       3060 non-null   int64 \n",
      " 5   5       3060 non-null   object\n",
      "dtypes: int64(1), object(5)\n",
      "memory usage: 143.6+ KB\n"
     ]
    }
   ],
   "source": [
    "df.info()"
   ]
  },
  {
   "cell_type": "code",
   "execution_count": 38,
   "id": "75f1847c-6a53-43fc-beb9-e120816377f3",
   "metadata": {},
   "outputs": [],
   "source": [
    "def transform_data(df,column_names):\n",
    "    df.columns = column_names\n",
    "    df['Date'] = pd.to_datetime(df.Date)\n",
    "    df['High'] = df['High'].astype(float)\n",
    "    df['Low'] = df['Low'].astype(float)\n",
    "    df['Close'] = df['Close'].astype(float)\n",
    "    df['Volume'] = df['Volume'].astype(int)\n",
    "    df['Change(%)'] = df['Change(%)'].astype(float)\n"
   ]
  },
  {
   "cell_type": "code",
   "execution_count": 39,
   "id": "b06b271a-d204-4c81-b095-18781603a72e",
   "metadata": {},
   "outputs": [],
   "source": [
    "column_names = ['Date','High','Low','Close','Volume','Change(%)']"
   ]
  },
  {
   "cell_type": "code",
   "execution_count": 40,
   "id": "475721ee-f285-4735-8dd9-bdffea906053",
   "metadata": {},
   "outputs": [
    {
     "name": "stdout",
     "output_type": "stream",
     "text": [
      "<class 'pandas.core.frame.DataFrame'>\n",
      "RangeIndex: 3060 entries, 0 to 3059\n",
      "Data columns (total 6 columns):\n",
      " #   Column  Non-Null Count  Dtype \n",
      "---  ------  --------------  ----- \n",
      " 0   0       3060 non-null   object\n",
      " 1   1       3060 non-null   object\n",
      " 2   2       3060 non-null   object\n",
      " 3   3       3060 non-null   object\n",
      " 4   4       3060 non-null   int64 \n",
      " 5   5       3060 non-null   object\n",
      "dtypes: int64(1), object(5)\n",
      "memory usage: 143.6+ KB\n"
     ]
    }
   ],
   "source": [
    "df.info()"
   ]
  },
  {
   "cell_type": "code",
   "execution_count": 41,
   "id": "7fef03a7-eaa6-44e0-86e9-0bb74b8e7b4e",
   "metadata": {},
   "outputs": [
    {
     "data": {
      "text/html": [
       "<div>\n",
       "<style scoped>\n",
       "    .dataframe tbody tr th:only-of-type {\n",
       "        vertical-align: middle;\n",
       "    }\n",
       "\n",
       "    .dataframe tbody tr th {\n",
       "        vertical-align: top;\n",
       "    }\n",
       "\n",
       "    .dataframe thead th {\n",
       "        text-align: right;\n",
       "    }\n",
       "</style>\n",
       "<table border=\"1\" class=\"dataframe\">\n",
       "  <thead>\n",
       "    <tr style=\"text-align: right;\">\n",
       "      <th></th>\n",
       "      <th>Date</th>\n",
       "      <th>High</th>\n",
       "      <th>Low</th>\n",
       "      <th>Close</th>\n",
       "      <th>Volume</th>\n",
       "      <th>Change(%)</th>\n",
       "    </tr>\n",
       "  </thead>\n",
       "  <tbody>\n",
       "    <tr>\n",
       "      <th>0</th>\n",
       "      <td>2010-05-09</td>\n",
       "      <td>1840.0</td>\n",
       "      <td>1840.0</td>\n",
       "      <td>1840.0</td>\n",
       "      <td>60</td>\n",
       "      <td>0.11</td>\n",
       "    </tr>\n",
       "    <tr>\n",
       "      <th>1</th>\n",
       "      <td>2010-05-10</td>\n",
       "      <td>1930.0</td>\n",
       "      <td>1876.0</td>\n",
       "      <td>1927.0</td>\n",
       "      <td>208</td>\n",
       "      <td>4.73</td>\n",
       "    </tr>\n",
       "    <tr>\n",
       "      <th>2</th>\n",
       "      <td>2010-05-11</td>\n",
       "      <td>2005.0</td>\n",
       "      <td>1900.0</td>\n",
       "      <td>2005.0</td>\n",
       "      <td>826</td>\n",
       "      <td>4.05</td>\n",
       "    </tr>\n",
       "    <tr>\n",
       "      <th>3</th>\n",
       "      <td>2010-05-12</td>\n",
       "      <td>2150.0</td>\n",
       "      <td>2010.0</td>\n",
       "      <td>2100.0</td>\n",
       "      <td>953</td>\n",
       "      <td>4.74</td>\n",
       "    </tr>\n",
       "    <tr>\n",
       "      <th>4</th>\n",
       "      <td>2010-05-13</td>\n",
       "      <td>2310.0</td>\n",
       "      <td>2142.0</td>\n",
       "      <td>2200.0</td>\n",
       "      <td>1750</td>\n",
       "      <td>4.76</td>\n",
       "    </tr>\n",
       "    <tr>\n",
       "      <th>...</th>\n",
       "      <td>...</td>\n",
       "      <td>...</td>\n",
       "      <td>...</td>\n",
       "      <td>...</td>\n",
       "      <td>...</td>\n",
       "      <td>...</td>\n",
       "    </tr>\n",
       "    <tr>\n",
       "      <th>3055</th>\n",
       "      <td>2023-11-05</td>\n",
       "      <td>573.0</td>\n",
       "      <td>564.0</td>\n",
       "      <td>566.0</td>\n",
       "      <td>50715</td>\n",
       "      <td>-1.20</td>\n",
       "    </tr>\n",
       "    <tr>\n",
       "      <th>3056</th>\n",
       "      <td>2023-11-06</td>\n",
       "      <td>577.0</td>\n",
       "      <td>567.0</td>\n",
       "      <td>568.0</td>\n",
       "      <td>29139</td>\n",
       "      <td>0.35</td>\n",
       "    </tr>\n",
       "    <tr>\n",
       "      <th>3057</th>\n",
       "      <td>2023-11-07</td>\n",
       "      <td>577.8</td>\n",
       "      <td>567.0</td>\n",
       "      <td>569.9</td>\n",
       "      <td>32456</td>\n",
       "      <td>0.33</td>\n",
       "    </tr>\n",
       "    <tr>\n",
       "      <th>3058</th>\n",
       "      <td>2023-11-08</td>\n",
       "      <td>575.0</td>\n",
       "      <td>568.0</td>\n",
       "      <td>571.5</td>\n",
       "      <td>28864</td>\n",
       "      <td>0.28</td>\n",
       "    </tr>\n",
       "    <tr>\n",
       "      <th>3059</th>\n",
       "      <td>2023-11-09</td>\n",
       "      <td>571.5</td>\n",
       "      <td>569.0</td>\n",
       "      <td>569.2</td>\n",
       "      <td>25721</td>\n",
       "      <td>-0.40</td>\n",
       "    </tr>\n",
       "  </tbody>\n",
       "</table>\n",
       "<p>3060 rows × 6 columns</p>\n",
       "</div>"
      ],
      "text/plain": [
       "           Date    High     Low   Close  Volume  Change(%)\n",
       "0    2010-05-09  1840.0  1840.0  1840.0      60       0.11\n",
       "1    2010-05-10  1930.0  1876.0  1927.0     208       4.73\n",
       "2    2010-05-11  2005.0  1900.0  2005.0     826       4.05\n",
       "3    2010-05-12  2150.0  2010.0  2100.0     953       4.74\n",
       "4    2010-05-13  2310.0  2142.0  2200.0    1750       4.76\n",
       "...         ...     ...     ...     ...     ...        ...\n",
       "3055 2023-11-05   573.0   564.0   566.0   50715      -1.20\n",
       "3056 2023-11-06   577.0   567.0   568.0   29139       0.35\n",
       "3057 2023-11-07   577.8   567.0   569.9   32456       0.33\n",
       "3058 2023-11-08   575.0   568.0   571.5   28864       0.28\n",
       "3059 2023-11-09   571.5   569.0   569.2   25721      -0.40\n",
       "\n",
       "[3060 rows x 6 columns]"
      ]
     },
     "execution_count": 41,
     "metadata": {},
     "output_type": "execute_result"
    }
   ],
   "source": [
    "transform_data(df,column_names)\n",
    "df"
   ]
  },
  {
   "cell_type": "code",
   "execution_count": 42,
   "id": "849e7f46-5b6d-4996-be88-e76b5f0574f6",
   "metadata": {},
   "outputs": [
    {
     "name": "stdout",
     "output_type": "stream",
     "text": [
      "<class 'pandas.core.frame.DataFrame'>\n",
      "RangeIndex: 3060 entries, 0 to 3059\n",
      "Data columns (total 6 columns):\n",
      " #   Column     Non-Null Count  Dtype         \n",
      "---  ------     --------------  -----         \n",
      " 0   Date       3060 non-null   datetime64[ns]\n",
      " 1   High       3060 non-null   float64       \n",
      " 2   Low        3060 non-null   float64       \n",
      " 3   Close      3060 non-null   float64       \n",
      " 4   Volume     3060 non-null   int64         \n",
      " 5   Change(%)  3060 non-null   float64       \n",
      "dtypes: datetime64[ns](1), float64(4), int64(1)\n",
      "memory usage: 143.6 KB\n"
     ]
    }
   ],
   "source": [
    "df.info()"
   ]
  },
  {
   "cell_type": "code",
   "execution_count": 43,
   "id": "6983a798-ed2d-4379-82da-b58de6373404",
   "metadata": {},
   "outputs": [
    {
     "data": {
      "text/plain": [
       "(3060, 6)"
      ]
     },
     "execution_count": 43,
     "metadata": {},
     "output_type": "execute_result"
    }
   ],
   "source": [
    "df.shape"
   ]
  },
  {
   "cell_type": "code",
   "execution_count": 44,
   "id": "4f961ea1-761e-4a03-83c0-16c6b7f1a7b9",
   "metadata": {},
   "outputs": [
    {
     "data": {
      "text/plain": [
       "Date         0\n",
       "High         0\n",
       "Low          0\n",
       "Close        0\n",
       "Volume       0\n",
       "Change(%)    0\n",
       "dtype: int64"
      ]
     },
     "execution_count": 44,
     "metadata": {},
     "output_type": "execute_result"
    }
   ],
   "source": [
    "df.isnull().sum()"
   ]
  },
  {
   "cell_type": "code",
   "execution_count": 45,
   "id": "d24d223e-8674-4294-82f8-55989366a643",
   "metadata": {},
   "outputs": [
    {
     "data": {
      "text/plain": [
       "Date         False\n",
       "High         False\n",
       "Low          False\n",
       "Close        False\n",
       "Volume       False\n",
       "Change(%)    False\n",
       "dtype: bool"
      ]
     },
     "execution_count": 45,
     "metadata": {},
     "output_type": "execute_result"
    }
   ],
   "source": [
    "df.isna().any()"
   ]
  },
  {
   "cell_type": "code",
   "execution_count": 46,
   "id": "e80dc1d3-b88e-4cff-8dc4-e308a7c57b70",
   "metadata": {},
   "outputs": [
    {
     "data": {
      "text/html": [
       "<div>\n",
       "<style scoped>\n",
       "    .dataframe tbody tr th:only-of-type {\n",
       "        vertical-align: middle;\n",
       "    }\n",
       "\n",
       "    .dataframe tbody tr th {\n",
       "        vertical-align: top;\n",
       "    }\n",
       "\n",
       "    .dataframe thead th {\n",
       "        text-align: right;\n",
       "    }\n",
       "</style>\n",
       "<table border=\"1\" class=\"dataframe\">\n",
       "  <thead>\n",
       "    <tr style=\"text-align: right;\">\n",
       "      <th></th>\n",
       "      <th>Date</th>\n",
       "      <th>High</th>\n",
       "      <th>Low</th>\n",
       "      <th>Close</th>\n",
       "      <th>Volume</th>\n",
       "      <th>Change(%)</th>\n",
       "    </tr>\n",
       "  </thead>\n",
       "  <tbody>\n",
       "    <tr>\n",
       "      <th>count</th>\n",
       "      <td>3060</td>\n",
       "      <td>3060.000000</td>\n",
       "      <td>3060.000000</td>\n",
       "      <td>3060.000000</td>\n",
       "      <td>3060.000000</td>\n",
       "      <td>3060.000000</td>\n",
       "    </tr>\n",
       "    <tr>\n",
       "      <th>mean</th>\n",
       "      <td>2017-02-13 03:14:21.176470528</td>\n",
       "      <td>1388.411742</td>\n",
       "      <td>1356.513922</td>\n",
       "      <td>1372.895458</td>\n",
       "      <td>25107.862418</td>\n",
       "      <td>0.048366</td>\n",
       "    </tr>\n",
       "    <tr>\n",
       "      <th>min</th>\n",
       "      <td>2010-05-09 00:00:00</td>\n",
       "      <td>570.000000</td>\n",
       "      <td>560.500000</td>\n",
       "      <td>566.000000</td>\n",
       "      <td>20.000000</td>\n",
       "      <td>-33.630000</td>\n",
       "    </tr>\n",
       "    <tr>\n",
       "      <th>25%</th>\n",
       "      <td>2013-09-21 06:00:00</td>\n",
       "      <td>881.500000</td>\n",
       "      <td>862.000000</td>\n",
       "      <td>870.000000</td>\n",
       "      <td>1788.000000</td>\n",
       "      <td>-0.800000</td>\n",
       "    </tr>\n",
       "    <tr>\n",
       "      <th>50%</th>\n",
       "      <td>2017-02-17 12:00:00</td>\n",
       "      <td>1305.000000</td>\n",
       "      <td>1265.000000</td>\n",
       "      <td>1293.500000</td>\n",
       "      <td>5428.000000</td>\n",
       "      <td>0.000000</td>\n",
       "    </tr>\n",
       "    <tr>\n",
       "      <th>75%</th>\n",
       "      <td>2020-08-17 06:00:00</td>\n",
       "      <td>1860.000000</td>\n",
       "      <td>1822.250000</td>\n",
       "      <td>1850.000000</td>\n",
       "      <td>28589.750000</td>\n",
       "      <td>0.700000</td>\n",
       "    </tr>\n",
       "    <tr>\n",
       "      <th>max</th>\n",
       "      <td>2023-11-09 00:00:00</td>\n",
       "      <td>2800.000000</td>\n",
       "      <td>2700.000000</td>\n",
       "      <td>2750.000000</td>\n",
       "      <td>705430.000000</td>\n",
       "      <td>10.000000</td>\n",
       "    </tr>\n",
       "    <tr>\n",
       "      <th>std</th>\n",
       "      <td>NaN</td>\n",
       "      <td>556.333731</td>\n",
       "      <td>543.460340</td>\n",
       "      <td>550.638960</td>\n",
       "      <td>47477.410744</td>\n",
       "      <td>2.189004</td>\n",
       "    </tr>\n",
       "  </tbody>\n",
       "</table>\n",
       "</div>"
      ],
      "text/plain": [
       "                                Date         High          Low        Close  \\\n",
       "count                           3060  3060.000000  3060.000000  3060.000000   \n",
       "mean   2017-02-13 03:14:21.176470528  1388.411742  1356.513922  1372.895458   \n",
       "min              2010-05-09 00:00:00   570.000000   560.500000   566.000000   \n",
       "25%              2013-09-21 06:00:00   881.500000   862.000000   870.000000   \n",
       "50%              2017-02-17 12:00:00  1305.000000  1265.000000  1293.500000   \n",
       "75%              2020-08-17 06:00:00  1860.000000  1822.250000  1850.000000   \n",
       "max              2023-11-09 00:00:00  2800.000000  2700.000000  2750.000000   \n",
       "std                              NaN   556.333731   543.460340   550.638960   \n",
       "\n",
       "              Volume    Change(%)  \n",
       "count    3060.000000  3060.000000  \n",
       "mean    25107.862418     0.048366  \n",
       "min        20.000000   -33.630000  \n",
       "25%      1788.000000    -0.800000  \n",
       "50%      5428.000000     0.000000  \n",
       "75%     28589.750000     0.700000  \n",
       "max    705430.000000    10.000000  \n",
       "std     47477.410744     2.189004  "
      ]
     },
     "execution_count": 46,
     "metadata": {},
     "output_type": "execute_result"
    }
   ],
   "source": [
    "df.describe()"
   ]
  },
  {
   "cell_type": "code",
   "execution_count": 47,
   "id": "bb3308e1-1fac-4d19-8497-f06c18d7269f",
   "metadata": {},
   "outputs": [
    {
     "data": {
      "text/plain": [
       "3060"
      ]
     },
     "execution_count": 47,
     "metadata": {},
     "output_type": "execute_result"
    }
   ],
   "source": [
    "len(df)"
   ]
  },
  {
   "cell_type": "code",
   "execution_count": null,
   "id": "93a55eae-e22f-40a0-9645-47e3ef8e4668",
   "metadata": {},
   "outputs": [],
   "source": []
  },
  {
   "cell_type": "code",
   "execution_count": 48,
   "id": "321c6db7-20ca-4e56-be95-537307051540",
   "metadata": {},
   "outputs": [
    {
     "data": {
      "image/png": "[encoded data removed]",
      "text/plain": [
       "<Figure size 1000x600 with 1 Axes>"
      ]
     },
     "metadata": {},
     "output_type": "display_data"
    }
   ],
   "source": [
    "#plotting figure\n",
    "plt.figure(figsize=(10, 6))\n",
    "plt.plot(df['Date'], df['Close'])\n",
    "plt.title('Date vs Close')\n",
    "plt.xlabel('Date')\n",
    "\n",
    "\n",
    "plt.ylabel('Close')\n",
    "plt.xticks(rotation=45)\n",
    "plt.show()"
   ]
  },
  {
   "cell_type": "code",
   "execution_count": 49,
   "id": "a00cabc2-804f-427c-ab0d-18d5d1561eb8",
   "metadata": {},
   "outputs": [
    {
     "data": {
      "text/html": [
       "<div>\n",
       "<style scoped>\n",
       "    .dataframe tbody tr th:only-of-type {\n",
       "        vertical-align: middle;\n",
       "    }\n",
       "\n",
       "    .dataframe tbody tr th {\n",
       "        vertical-align: top;\n",
       "    }\n",
       "\n",
       "    .dataframe thead th {\n",
       "        text-align: right;\n",
       "    }\n",
       "</style>\n",
       "<table border=\"1\" class=\"dataframe\">\n",
       "  <thead>\n",
       "    <tr style=\"text-align: right;\">\n",
       "      <th></th>\n",
       "      <th>Date</th>\n",
       "      <th>High</th>\n",
       "      <th>Low</th>\n",
       "      <th>Close</th>\n",
       "      <th>Volume</th>\n",
       "      <th>Change(%)</th>\n",
       "    </tr>\n",
       "  </thead>\n",
       "  <tbody>\n",
       "    <tr>\n",
       "      <th>0</th>\n",
       "      <td>2010-05-09</td>\n",
       "      <td>1840.0</td>\n",
       "      <td>1840.0</td>\n",
       "      <td>1840.0</td>\n",
       "      <td>60</td>\n",
       "      <td>0.11</td>\n",
       "    </tr>\n",
       "    <tr>\n",
       "      <th>1</th>\n",
       "      <td>2010-05-10</td>\n",
       "      <td>1930.0</td>\n",
       "      <td>1876.0</td>\n",
       "      <td>1927.0</td>\n",
       "      <td>208</td>\n",
       "      <td>4.73</td>\n",
       "    </tr>\n",
       "    <tr>\n",
       "      <th>2</th>\n",
       "      <td>2010-05-11</td>\n",
       "      <td>2005.0</td>\n",
       "      <td>1900.0</td>\n",
       "      <td>2005.0</td>\n",
       "      <td>826</td>\n",
       "      <td>4.05</td>\n",
       "    </tr>\n",
       "    <tr>\n",
       "      <th>3</th>\n",
       "      <td>2010-05-12</td>\n",
       "      <td>2150.0</td>\n",
       "      <td>2010.0</td>\n",
       "      <td>2100.0</td>\n",
       "      <td>953</td>\n",
       "      <td>4.74</td>\n",
       "    </tr>\n",
       "    <tr>\n",
       "      <th>4</th>\n",
       "      <td>2010-05-13</td>\n",
       "      <td>2310.0</td>\n",
       "      <td>2142.0</td>\n",
       "      <td>2200.0</td>\n",
       "      <td>1750</td>\n",
       "      <td>4.76</td>\n",
       "    </tr>\n",
       "    <tr>\n",
       "      <th>...</th>\n",
       "      <td>...</td>\n",
       "      <td>...</td>\n",
       "      <td>...</td>\n",
       "      <td>...</td>\n",
       "      <td>...</td>\n",
       "      <td>...</td>\n",
       "    </tr>\n",
       "    <tr>\n",
       "      <th>3055</th>\n",
       "      <td>2023-11-05</td>\n",
       "      <td>573.0</td>\n",
       "      <td>564.0</td>\n",
       "      <td>566.0</td>\n",
       "      <td>50715</td>\n",
       "      <td>-1.20</td>\n",
       "    </tr>\n",
       "    <tr>\n",
       "      <th>3056</th>\n",
       "      <td>2023-11-06</td>\n",
       "      <td>577.0</td>\n",
       "      <td>567.0</td>\n",
       "      <td>568.0</td>\n",
       "      <td>29139</td>\n",
       "      <td>0.35</td>\n",
       "    </tr>\n",
       "    <tr>\n",
       "      <th>3057</th>\n",
       "      <td>2023-11-07</td>\n",
       "      <td>577.8</td>\n",
       "      <td>567.0</td>\n",
       "      <td>569.9</td>\n",
       "      <td>32456</td>\n",
       "      <td>0.33</td>\n",
       "    </tr>\n",
       "    <tr>\n",
       "      <th>3058</th>\n",
       "      <td>2023-11-08</td>\n",
       "      <td>575.0</td>\n",
       "      <td>568.0</td>\n",
       "      <td>571.5</td>\n",
       "      <td>28864</td>\n",
       "      <td>0.28</td>\n",
       "    </tr>\n",
       "    <tr>\n",
       "      <th>3059</th>\n",
       "      <td>2023-11-09</td>\n",
       "      <td>571.5</td>\n",
       "      <td>569.0</td>\n",
       "      <td>569.2</td>\n",
       "      <td>25721</td>\n",
       "      <td>-0.40</td>\n",
       "    </tr>\n",
       "  </tbody>\n",
       "</table>\n",
       "<p>3060 rows × 6 columns</p>\n",
       "</div>"
      ],
      "text/plain": [
       "           Date    High     Low   Close  Volume  Change(%)\n",
       "0    2010-05-09  1840.0  1840.0  1840.0      60       0.11\n",
       "1    2010-05-10  1930.0  1876.0  1927.0     208       4.73\n",
       "2    2010-05-11  2005.0  1900.0  2005.0     826       4.05\n",
       "3    2010-05-12  2150.0  2010.0  2100.0     953       4.74\n",
       "4    2010-05-13  2310.0  2142.0  2200.0    1750       4.76\n",
       "...         ...     ...     ...     ...     ...        ...\n",
       "3055 2023-11-05   573.0   564.0   566.0   50715      -1.20\n",
       "3056 2023-11-06   577.0   567.0   568.0   29139       0.35\n",
       "3057 2023-11-07   577.8   567.0   569.9   32456       0.33\n",
       "3058 2023-11-08   575.0   568.0   571.5   28864       0.28\n",
       "3059 2023-11-09   571.5   569.0   569.2   25721      -0.40\n",
       "\n",
       "[3060 rows x 6 columns]"
      ]
     },
     "execution_count": 49,
     "metadata": {},
     "output_type": "execute_result"
    }
   ],
   "source": [
    "df"
   ]
  },
  {
   "cell_type": "code",
   "execution_count": 50,
   "id": "ea75ddce-3935-4a5b-bc66-71a01144e059",
   "metadata": {},
   "outputs": [],
   "source": [
    "X = df[['High','Low','Volume','Change(%)']]\n",
    "y = df['Close']"
   ]
  },
  {
   "cell_type": "code",
   "execution_count": 52,
   "id": "d9991f70-7cec-4642-a956-c543092d9072",
   "metadata": {},
   "outputs": [
    {
     "data": {
      "text/html": [
       "<div>\n",
       "<style scoped>\n",
       "    .dataframe tbody tr th:only-of-type {\n",
       "        vertical-align: middle;\n",
       "    }\n",
       "\n",
       "    .dataframe tbody tr th {\n",
       "        vertical-align: top;\n",
       "    }\n",
       "\n",
       "    .dataframe thead th {\n",
       "        text-align: right;\n",
       "    }\n",
       "</style>\n",
       "<table border=\"1\" class=\"dataframe\">\n",
       "  <thead>\n",
       "    <tr style=\"text-align: right;\">\n",
       "      <th></th>\n",
       "      <th>High</th>\n",
       "      <th>Low</th>\n",
       "      <th>Volume</th>\n",
       "      <th>Change(%)</th>\n",
       "    </tr>\n",
       "  </thead>\n",
       "  <tbody>\n",
       "    <tr>\n",
       "      <th>0</th>\n",
       "      <td>1840.0</td>\n",
       "      <td>1840.0</td>\n",
       "      <td>60</td>\n",
       "      <td>0.11</td>\n",
       "    </tr>\n",
       "    <tr>\n",
       "      <th>1</th>\n",
       "      <td>1930.0</td>\n",
       "      <td>1876.0</td>\n",
       "      <td>208</td>\n",
       "      <td>4.73</td>\n",
       "    </tr>\n",
       "    <tr>\n",
       "      <th>2</th>\n",
       "      <td>2005.0</td>\n",
       "      <td>1900.0</td>\n",
       "      <td>826</td>\n",
       "      <td>4.05</td>\n",
       "    </tr>\n",
       "    <tr>\n",
       "      <th>3</th>\n",
       "      <td>2150.0</td>\n",
       "      <td>2010.0</td>\n",
       "      <td>953</td>\n",
       "      <td>4.74</td>\n",
       "    </tr>\n",
       "    <tr>\n",
       "      <th>4</th>\n",
       "      <td>2310.0</td>\n",
       "      <td>2142.0</td>\n",
       "      <td>1750</td>\n",
       "      <td>4.76</td>\n",
       "    </tr>\n",
       "    <tr>\n",
       "      <th>...</th>\n",
       "      <td>...</td>\n",
       "      <td>...</td>\n",
       "      <td>...</td>\n",
       "      <td>...</td>\n",
       "    </tr>\n",
       "    <tr>\n",
       "      <th>3055</th>\n",
       "      <td>573.0</td>\n",
       "      <td>564.0</td>\n",
       "      <td>50715</td>\n",
       "      <td>-1.20</td>\n",
       "    </tr>\n",
       "    <tr>\n",
       "      <th>3056</th>\n",
       "      <td>577.0</td>\n",
       "      <td>567.0</td>\n",
       "      <td>29139</td>\n",
       "      <td>0.35</td>\n",
       "    </tr>\n",
       "    <tr>\n",
       "      <th>3057</th>\n",
       "      <td>577.8</td>\n",
       "      <td>567.0</td>\n",
       "      <td>32456</td>\n",
       "      <td>0.33</td>\n",
       "    </tr>\n",
       "    <tr>\n",
       "      <th>3058</th>\n",
       "      <td>575.0</td>\n",
       "      <td>568.0</td>\n",
       "      <td>28864</td>\n",
       "      <td>0.28</td>\n",
       "    </tr>\n",
       "    <tr>\n",
       "      <th>3059</th>\n",
       "      <td>571.5</td>\n",
       "      <td>569.0</td>\n",
       "      <td>25721</td>\n",
       "      <td>-0.40</td>\n",
       "    </tr>\n",
       "  </tbody>\n",
       "</table>\n",
       "<p>3060 rows × 4 columns</p>\n",
       "</div>"
      ],
      "text/plain": [
       "        High     Low  Volume  Change(%)\n",
       "0     1840.0  1840.0      60       0.11\n",
       "1     1930.0  1876.0     208       4.73\n",
       "2     2005.0  1900.0     826       4.05\n",
       "3     2150.0  2010.0     953       4.74\n",
       "4     2310.0  2142.0    1750       4.76\n",
       "...      ...     ...     ...        ...\n",
       "3055   573.0   564.0   50715      -1.20\n",
       "3056   577.0   567.0   29139       0.35\n",
       "3057   577.8   567.0   32456       0.33\n",
       "3058   575.0   568.0   28864       0.28\n",
       "3059   571.5   569.0   25721      -0.40\n",
       "\n",
       "[3060 rows x 4 columns]"
      ]
     },
     "execution_count": 52,
     "metadata": {},
     "output_type": "execute_result"
    }
   ],
   "source": [
    "X"
   ]
  },
  {
   "cell_type": "code",
   "execution_count": 53,
   "id": "87aadcb5-5ef7-49a5-897f-454c89513832",
   "metadata": {},
   "outputs": [
    {
     "data": {
      "text/plain": [
       "0       1840.0\n",
       "1       1927.0\n",
       "2       2005.0\n",
       "3       2100.0\n",
       "4       2200.0\n",
       "         ...  \n",
       "3055     566.0\n",
       "3056     568.0\n",
       "3057     569.9\n",
       "3058     571.5\n",
       "3059     569.2\n",
       "Name: Close, Length: 3060, dtype: float64"
      ]
     },
     "execution_count": 53,
     "metadata": {},
     "output_type": "execute_result"
    }
   ],
   "source": [
    "y"
   ]
  },
  {
   "cell_type": "code",
   "execution_count": 54,
   "id": "dc6908e8-417a-422e-9a82-ee72291371a3",
   "metadata": {},
   "outputs": [],
   "source": [
    "X_train , X_test , y_train , y_test = train_test_split(X ,y , random_state = 0)"
   ]
  },
  {
   "cell_type": "code",
   "execution_count": 55,
   "id": "519c37ff-e026-4704-ba83-750ef1832d9d",
   "metadata": {},
   "outputs": [
    {
     "name": "stdout",
     "output_type": "stream",
     "text": [
      "(2295, 4) (765, 4) (2295,) (765,)\n"
     ]
    }
   ],
   "source": [
    "print(X_train.shape,X_test.shape,y_train.shape,y_test.shape)"
   ]
  },
  {
   "cell_type": "code",
   "execution_count": 56,
   "id": "68759c0b-63be-430d-ba4a-824299b2d1bd",
   "metadata": {},
   "outputs": [],
   "source": [
    "model = LinearRegression()"
   ]
  },
  {
   "cell_type": "code",
   "execution_count": 57,
   "id": "64256613-5f2d-4969-8c3e-186a27fc4fc1",
   "metadata": {},
   "outputs": [
    {
     "data": {
      "text/html": [
       "<style>#sk-container-id-1 {color: black;}#sk-container-id-1 pre{padding: 0;}#sk-container-id-1 div.sk-toggleable {background-color: white;}#sk-container-id-1 label.sk-toggleable__label {cursor: pointer;display: block;width: 100%;margin-bottom: 0;padding: 0.3em;box-sizing: border-box;text-align: center;}#sk-container-id-1 label.sk-toggleable__label-arrow:before {content: \"▸\";float: left;margin-right: 0.25em;color: #696969;}#sk-container-id-1 label.sk-toggleable__label-arrow:hover:before {color: black;}#sk-container-id-1 div.sk-estimator:hover label.sk-toggleable__label-arrow:before {color: black;}#sk-container-id-1 div.sk-toggleable__content {max-height: 0;max-width: 0;overflow: hidden;text-align: left;background-color: #f0f8ff;}#sk-container-id-1 div.sk-toggleable__content pre {margin: 0.2em;color: black;border-radius: 0.25em;background-color: #f0f8ff;}#sk-container-id-1 input.sk-toggleable__control:checked~div.sk-toggleable__content {max-height: 200px;max-width: 100%;overflow: auto;}#sk-container-id-1 input.sk-toggleable__control:checked~label.sk-toggleable__label-arrow:before {content: \"▾\";}#sk-container-id-1 div.sk-estimator input.sk-toggleable__control:checked~label.sk-toggleable__label {background-color: #d4ebff;}#sk-container-id-1 div.sk-label input.sk-toggleable__control:checked~label.sk-toggleable__label {background-color: #d4ebff;}#sk-container-id-1 input.sk-hidden--visually {border: 0;clip: rect(1px 1px 1px 1px);clip: rect(1px, 1px, 1px, 1px);height: 1px;margin: -1px;overflow: hidden;padding: 0;position: absolute;width: 1px;}#sk-container-id-1 div.sk-estimator {font-family: monospace;background-color: #f0f8ff;border: 1px dotted black;border-radius: 0.25em;box-sizing: border-box;margin-bottom: 0.5em;}#sk-container-id-1 div.sk-estimator:hover {background-color: #d4ebff;}#sk-container-id-1 div.sk-parallel-item::after {content: \"\";width: 100%;border-bottom: 1px solid gray;flex-grow: 1;}#sk-container-id-1 div.sk-label:hover label.sk-toggleable__label {background-color: #d4ebff;}#sk-container-id-1 div.sk-serial::before {content: \"\";position: absolute;border-left: 1px solid gray;box-sizing: border-box;top: 0;bottom: 0;left: 50%;z-index: 0;}#sk-container-id-1 div.sk-serial {display: flex;flex-direction: column;align-items: center;background-color: white;padding-right: 0.2em;padding-left: 0.2em;position: relative;}#sk-container-id-1 div.sk-item {position: relative;z-index: 1;}#sk-container-id-1 div.sk-parallel {display: flex;align-items: stretch;justify-content: center;background-color: white;position: relative;}#sk-container-id-1 div.sk-item::before, #sk-container-id-1 div.sk-parallel-item::before {content: \"\";position: absolute;border-left: 1px solid gray;box-sizing: border-box;top: 0;bottom: 0;left: 50%;z-index: -1;}#sk-container-id-1 div.sk-parallel-item {display: flex;flex-direction: column;z-index: 1;position: relative;background-color: white;}#sk-container-id-1 div.sk-parallel-item:first-child::after {align-self: flex-end;width: 50%;}#sk-container-id-1 div.sk-parallel-item:last-child::after {align-self: flex-start;width: 50%;}#sk-container-id-1 div.sk-parallel-item:only-child::after {width: 0;}#sk-container-id-1 div.sk-dashed-wrapped {border: 1px dashed gray;margin: 0 0.4em 0.5em 0.4em;box-sizing: border-box;padding-bottom: 0.4em;background-color: white;}#sk-container-id-1 div.sk-label label {font-family: monospace;font-weight: bold;display: inline-block;line-height: 1.2em;}#sk-container-id-1 div.sk-label-container {text-align: center;}#sk-container-id-1 div.sk-container {/* jupyter's `normalize.less` sets `[hidden] { display: none; }` but bootstrap.min.css set `[hidden] { display: none !important; }` so we also need the `!important` here to be able to override the default hidden behavior on the sphinx rendered scikit-learn.org. See: https://github.com/scikit-learn/scikit-learn/issues/21755 */display: inline-block !important;position: relative;}#sk-container-id-1 div.sk-text-repr-fallback {display: none;}</style><div id=\"sk-container-id-1\" class=\"sk-top-container\"><div class=\"sk-text-repr-fallback\"><pre>LinearRegression()</pre><b>In a Jupyter environment, please rerun this cell to show the HTML representation or trust the notebook. <br />On GitHub, the HTML representation is unable to render, please try loading this page with nbviewer.org.</b></div><div class=\"sk-container\" hidden><div class=\"sk-item\"><div class=\"sk-estimator sk-toggleable\"><input class=\"sk-toggleable__control sk-hidden--visually\" id=\"sk-estimator-id-1\" type=\"checkbox\" checked><label for=\"sk-estimator-id-1\" class=\"sk-toggleable__label sk-toggleable__label-arrow\">LinearRegression</label><div class=\"sk-toggleable__content\"><pre>LinearRegression()</pre></div></div></div></div></div>"
      ],
      "text/plain": [
       "LinearRegression()"
      ]
     },
     "execution_count": 57,
     "metadata": {},
     "output_type": "execute_result"
    }
   ],
   "source": [
    "model.fit(X_train,y_train)"
   ]
  },
  {
   "cell_type": "code",
   "execution_count": 58,
   "id": "e379b26d-5c84-4fe3-b894-65757c6c0196",
   "metadata": {},
   "outputs": [
    {
     "name": "stdout",
     "output_type": "stream",
     "text": [
      "[ 5.57932900e-01  4.40792651e-01 -3.88227211e-05  4.56496514e+00]\n"
     ]
    }
   ],
   "source": [
    "print(model.coef_)"
   ]
  },
  {
   "cell_type": "code",
   "execution_count": 59,
   "id": "0f00f1b6-af39-455c-9d79-e3a2bc6e17e7",
   "metadata": {},
   "outputs": [
    {
     "name": "stdout",
     "output_type": "stream",
     "text": [
      "1.2817284871593984\n"
     ]
    }
   ],
   "source": [
    "print(model.intercept_)"
   ]
  },
  {
   "cell_type": "code",
   "execution_count": 60,
   "id": "305f418b-35eb-42bd-810c-2dca4331308f",
   "metadata": {},
   "outputs": [],
   "source": [
    "predicted=model.predict(X_test)"
   ]
  },
  {
   "cell_type": "code",
   "execution_count": 61,
   "id": "6ec4206b-b9d6-43d2-8e74-1f29e44685c2",
   "metadata": {},
   "outputs": [],
   "source": [
    "y_test = y_test.values"
   ]
  },
  {
   "cell_type": "code",
   "execution_count": 62,
   "id": "4e5d2909-7cb3-420d-984a-1eece310687a",
   "metadata": {},
   "outputs": [
    {
     "data": {
      "text/plain": [
       "(765,)"
      ]
     },
     "execution_count": 62,
     "metadata": {},
     "output_type": "execute_result"
    }
   ],
   "source": [
    "predicted.shape"
   ]
  },
  {
   "cell_type": "code",
   "execution_count": null,
   "id": "01b1f1f5-dae6-4cdd-b777-4ea6b8458f99",
   "metadata": {},
   "outputs": [],
   "source": []
  },
  {
   "cell_type": "code",
   "execution_count": 63,
   "id": "c2fa29a5-2ded-4dcd-a7ab-925506bb274e",
   "metadata": {},
   "outputs": [
    {
     "data": {
      "text/html": [
       "<div>\n",
       "<style scoped>\n",
       "    .dataframe tbody tr th:only-of-type {\n",
       "        vertical-align: middle;\n",
       "    }\n",
       "\n",
       "    .dataframe tbody tr th {\n",
       "        vertical-align: top;\n",
       "    }\n",
       "\n",
       "    .dataframe thead th {\n",
       "        text-align: right;\n",
       "    }\n",
       "</style>\n",
       "<table border=\"1\" class=\"dataframe\">\n",
       "  <thead>\n",
       "    <tr style=\"text-align: right;\">\n",
       "      <th></th>\n",
       "      <th>Actual</th>\n",
       "      <th>Predicted</th>\n",
       "    </tr>\n",
       "  </thead>\n",
       "  <tbody>\n",
       "    <tr>\n",
       "      <th>0</th>\n",
       "      <td>1313.0</td>\n",
       "      <td>1314.008715</td>\n",
       "    </tr>\n",
       "    <tr>\n",
       "      <th>1</th>\n",
       "      <td>1766.0</td>\n",
       "      <td>1777.834559</td>\n",
       "    </tr>\n",
       "    <tr>\n",
       "      <th>2</th>\n",
       "      <td>1565.0</td>\n",
       "      <td>1561.098701</td>\n",
       "    </tr>\n",
       "    <tr>\n",
       "      <th>3</th>\n",
       "      <td>2200.0</td>\n",
       "      <td>2211.084486</td>\n",
       "    </tr>\n",
       "    <tr>\n",
       "      <th>4</th>\n",
       "      <td>2341.0</td>\n",
       "      <td>2308.169899</td>\n",
       "    </tr>\n",
       "    <tr>\n",
       "      <th>...</th>\n",
       "      <td>...</td>\n",
       "      <td>...</td>\n",
       "    </tr>\n",
       "    <tr>\n",
       "      <th>760</th>\n",
       "      <td>1400.0</td>\n",
       "      <td>1417.886905</td>\n",
       "    </tr>\n",
       "    <tr>\n",
       "      <th>761</th>\n",
       "      <td>1161.0</td>\n",
       "      <td>1157.971952</td>\n",
       "    </tr>\n",
       "    <tr>\n",
       "      <th>762</th>\n",
       "      <td>1070.0</td>\n",
       "      <td>1073.918769</td>\n",
       "    </tr>\n",
       "    <tr>\n",
       "      <th>763</th>\n",
       "      <td>741.0</td>\n",
       "      <td>741.861417</td>\n",
       "    </tr>\n",
       "    <tr>\n",
       "      <th>764</th>\n",
       "      <td>1770.0</td>\n",
       "      <td>1770.306892</td>\n",
       "    </tr>\n",
       "  </tbody>\n",
       "</table>\n",
       "<p>765 rows × 2 columns</p>\n",
       "</div>"
      ],
      "text/plain": [
       "     Actual    Predicted\n",
       "0    1313.0  1314.008715\n",
       "1    1766.0  1777.834559\n",
       "2    1565.0  1561.098701\n",
       "3    2200.0  2211.084486\n",
       "4    2341.0  2308.169899\n",
       "..      ...          ...\n",
       "760  1400.0  1417.886905\n",
       "761  1161.0  1157.971952\n",
       "762  1070.0  1073.918769\n",
       "763   741.0   741.861417\n",
       "764  1770.0  1770.306892\n",
       "\n",
       "[765 rows x 2 columns]"
      ]
     },
     "execution_count": 63,
     "metadata": {},
     "output_type": "execute_result"
    }
   ],
   "source": [
    "df = pd.DataFrame({'Actual': y_test, 'Predicted': predicted})\n",
    "df"
   ]
  },
  {
   "cell_type": "code",
   "execution_count": 64,
   "id": "3bab2f6a-fd53-4e9b-be4e-3bb7e4f3e39d",
   "metadata": {},
   "outputs": [
    {
     "data": {
      "text/plain": [
       "7.025073488650873"
      ]
     },
     "execution_count": 64,
     "metadata": {},
     "output_type": "execute_result"
    }
   ],
   "source": [
    "mae = metrics.mean_absolute_error(y_test,predicted)\n",
    "mae"
   ]
  },
  {
   "cell_type": "code",
   "execution_count": 68,
   "id": "5c6ad06a-876c-42d5-93cf-297d28044af9",
   "metadata": {},
   "outputs": [],
   "source": [
    "graph = df.head(20)"
   ]
  },
  {
   "cell_type": "code",
   "execution_count": 70,
   "id": "58ed0b25-829d-456b-8f8b-a0fbe52bff7a",
   "metadata": {},
   "outputs": [
    {
     "data": {
      "text/plain": [
       "<Axes: >"
      ]
     },
     "execution_count": 70,
     "metadata": {},
     "output_type": "execute_result"
    },
    {
     "data": {
      "image/png": "[encoded data removed]",
      "text/plain": [
       "<Figure size 640x480 with 1 Axes>"
      ]
     },
     "metadata": {},
     "output_type": "display_data"
    }
   ],
   "source": [
    "graph.plot(kind = 'bar')"
   ]
  },
  {
   "cell_type": "code",
   "execution_count": null,
   "id": "709741dd-960b-4aec-9c94-25602317c10c",
   "metadata": {},
   "outputs": [],
   "source": []
  },
  {
   "cell_type": "code",
   "execution_count": null,
   "id": "11f38173-df16-4308-bb23-01e1b9b8c4f7",
   "metadata": {},
   "outputs": [],
   "source": []
  }
 ],
 "metadata": {
  "kernelspec": {
   "display_name": "Python 3 (ipykernel)",
   "language": "python",
   "name": "python3"
  },
  "language_info": {
   "codemirror_mode": {
    "name": "ipython",
    "version": 3
   },
   "file_extension": ".py",
   "mimetype": "text/x-python",
   "name": "python",
   "nbconvert_exporter": "python",
   "pygments_lexer": "ipython3",
   "version": "3.10.12"
  }
 },
 "nbformat": 4,
 "nbformat_minor": 5
}
