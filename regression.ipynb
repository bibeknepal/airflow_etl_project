{
 "cells": [
  {
   "cell_type": "code",
   "execution_count": 27,
   "id": "ebbf5af6-a796-45d2-980f-70f0f8c814fb",
   "metadata": {},
   "outputs": [],
   "source": [
    "import psycopg2\n",
    "import pandas as pd\n",
    "import numpy as np\n",
    "from sklearn import metrics\n",
    "import matplotlib.pyplot as plt\n"
   ]
  },
  {
   "cell_type": "code",
   "execution_count": 28,
   "id": "ba52d332-2cc2-4d48-9d74-729620d5a400",
   "metadata": {},
   "outputs": [],
   "source": [
    "def connect_database():\n",
    "    try:\n",
    "        conn = psycopg2.connect(\n",
    "            host = 'localhost',\n",
    "            dbname = 'stock_data',\n",
    "            user = 'bibek',\n",
    "            password = 'bibek')\n",
    "        cur = conn.cursor()\n",
    "        conn.autocommit = True\n",
    "        print(\"Database Connected Successfully\")\n",
    "        return conn,cur\n",
    "    except Exception as e:\n",
    "        print(f\"Cannot Connect to database: {e}\")"
   ]
  },
  {
   "cell_type": "code",
   "execution_count": 29,
   "id": "9df577c9-d52c-424e-a60c-77531d04bddb",
   "metadata": {},
   "outputs": [
    {
     "name": "stdout",
     "output_type": "stream",
     "text": [
      "Database Connected Successfully\n"
     ]
    }
   ],
   "source": [
    "conn, cur = connect_database()"
   ]
  },
  {
   "cell_type": "code",
   "execution_count": 30,
   "id": "48a9aca0-5dbf-49b7-a5e0-8d1fbbd566c8",
   "metadata": {},
   "outputs": [
    {
     "data": {
      "text/html": [
       "<div>\n",
       "<style scoped>\n",
       "    .dataframe tbody tr th:only-of-type {\n",
       "        vertical-align: middle;\n",
       "    }\n",
       "\n",
       "    .dataframe tbody tr th {\n",
       "        vertical-align: top;\n",
       "    }\n",
       "\n",
       "    .dataframe thead th {\n",
       "        text-align: right;\n",
       "    }\n",
       "</style>\n",
       "<table border=\"1\" class=\"dataframe\">\n",
       "  <thead>\n",
       "    <tr style=\"text-align: right;\">\n",
       "      <th></th>\n",
       "      <th>0</th>\n",
       "      <th>1</th>\n",
       "      <th>2</th>\n",
       "      <th>3</th>\n",
       "      <th>4</th>\n",
       "      <th>5</th>\n",
       "    </tr>\n",
       "  </thead>\n",
       "  <tbody>\n",
       "    <tr>\n",
       "      <th>0</th>\n",
       "      <td>2010-04-26</td>\n",
       "      <td>1785.0</td>\n",
       "      <td>1750.0</td>\n",
       "      <td>1760.0</td>\n",
       "      <td>920</td>\n",
       "      <td>-1.46</td>\n",
       "    </tr>\n",
       "    <tr>\n",
       "      <th>1</th>\n",
       "      <td>2010-04-27</td>\n",
       "      <td>1730.0</td>\n",
       "      <td>1695.0</td>\n",
       "      <td>1696.0</td>\n",
       "      <td>1418</td>\n",
       "      <td>-3.64</td>\n",
       "    </tr>\n",
       "    <tr>\n",
       "      <th>2</th>\n",
       "      <td>2010-04-28</td>\n",
       "      <td>1729.0</td>\n",
       "      <td>1665.0</td>\n",
       "      <td>1671.0</td>\n",
       "      <td>293</td>\n",
       "      <td>-1.47</td>\n",
       "    </tr>\n",
       "    <tr>\n",
       "      <th>3</th>\n",
       "      <td>2010-04-29</td>\n",
       "      <td>1838.0</td>\n",
       "      <td>1704.0</td>\n",
       "      <td>1838.0</td>\n",
       "      <td>622</td>\n",
       "      <td>9.99</td>\n",
       "    </tr>\n",
       "    <tr>\n",
       "      <th>4</th>\n",
       "      <td>2010-05-09</td>\n",
       "      <td>1840.0</td>\n",
       "      <td>1840.0</td>\n",
       "      <td>1840.0</td>\n",
       "      <td>60</td>\n",
       "      <td>0.11</td>\n",
       "    </tr>\n",
       "    <tr>\n",
       "      <th>...</th>\n",
       "      <td>...</td>\n",
       "      <td>...</td>\n",
       "      <td>...</td>\n",
       "      <td>...</td>\n",
       "      <td>...</td>\n",
       "      <td>...</td>\n",
       "    </tr>\n",
       "    <tr>\n",
       "      <th>3055</th>\n",
       "      <td>2023-10-30</td>\n",
       "      <td>580.0</td>\n",
       "      <td>572.0</td>\n",
       "      <td>580.0</td>\n",
       "      <td>39951</td>\n",
       "      <td>-0.17</td>\n",
       "    </tr>\n",
       "    <tr>\n",
       "      <th>3056</th>\n",
       "      <td>2023-10-31</td>\n",
       "      <td>585.0</td>\n",
       "      <td>575.0</td>\n",
       "      <td>578.0</td>\n",
       "      <td>25726</td>\n",
       "      <td>-0.34</td>\n",
       "    </tr>\n",
       "    <tr>\n",
       "      <th>3057</th>\n",
       "      <td>2023-11-01</td>\n",
       "      <td>580.0</td>\n",
       "      <td>575.0</td>\n",
       "      <td>577.6</td>\n",
       "      <td>18731</td>\n",
       "      <td>-0.07</td>\n",
       "    </tr>\n",
       "    <tr>\n",
       "      <th>3058</th>\n",
       "      <td>2023-11-02</td>\n",
       "      <td>582.0</td>\n",
       "      <td>572.0</td>\n",
       "      <td>572.9</td>\n",
       "      <td>36808</td>\n",
       "      <td>-0.81</td>\n",
       "    </tr>\n",
       "    <tr>\n",
       "      <th>3059</th>\n",
       "      <td>2023-11-05</td>\n",
       "      <td>573.0</td>\n",
       "      <td>564.0</td>\n",
       "      <td>566.0</td>\n",
       "      <td>50715</td>\n",
       "      <td>-1.2</td>\n",
       "    </tr>\n",
       "  </tbody>\n",
       "</table>\n",
       "<p>3060 rows × 6 columns</p>\n",
       "</div>"
      ],
      "text/plain": [
       "               0       1       2       3      4      5\n",
       "0     2010-04-26  1785.0  1750.0  1760.0    920  -1.46\n",
       "1     2010-04-27  1730.0  1695.0  1696.0   1418  -3.64\n",
       "2     2010-04-28  1729.0  1665.0  1671.0    293  -1.47\n",
       "3     2010-04-29  1838.0  1704.0  1838.0    622   9.99\n",
       "4     2010-05-09  1840.0  1840.0  1840.0     60   0.11\n",
       "...          ...     ...     ...     ...    ...    ...\n",
       "3055  2023-10-30   580.0   572.0   580.0  39951  -0.17\n",
       "3056  2023-10-31   585.0   575.0   578.0  25726  -0.34\n",
       "3057  2023-11-01   580.0   575.0   577.6  18731  -0.07\n",
       "3058  2023-11-02   582.0   572.0   572.9  36808  -0.81\n",
       "3059  2023-11-05   573.0   564.0   566.0  50715   -1.2\n",
       "\n",
       "[3060 rows x 6 columns]"
      ]
     },
     "execution_count": 30,
     "metadata": {},
     "output_type": "execute_result"
    }
   ],
   "source": [
    "cur.execute('Select * from nabil_bank')\n",
    "data = cur.fetchall()\n",
    "df = pd.DataFrame(data)\n",
    "df"
   ]
  },
  {
   "cell_type": "code",
   "execution_count": 33,
   "id": "47e3403c-b782-48d4-8c22-aa8b6ffd3550",
   "metadata": {},
   "outputs": [
    {
     "name": "stdout",
     "output_type": "stream",
     "text": [
      "<class 'pandas.core.frame.DataFrame'>\n",
      "RangeIndex: 3060 entries, 0 to 3059\n",
      "Data columns (total 6 columns):\n",
      " #   Column  Non-Null Count  Dtype \n",
      "---  ------  --------------  ----- \n",
      " 0   0       3060 non-null   object\n",
      " 1   1       3060 non-null   object\n",
      " 2   2       3060 non-null   object\n",
      " 3   3       3060 non-null   object\n",
      " 4   4       3060 non-null   int64 \n",
      " 5   5       3060 non-null   object\n",
      "dtypes: int64(1), object(5)\n",
      "memory usage: 143.6+ KB\n"
     ]
    }
   ],
   "source": [
    "df.info()"
   ]
  },
  {
   "cell_type": "code",
   "execution_count": null,
   "id": "75f1847c-6a53-43fc-beb9-e120816377f3",
   "metadata": {},
   "outputs": [],
   "source": [
    "def transform_data(df,column_names):\n",
    "    df.columns = column_names\n",
    "    df['Date'] = pd.to_datetime(df.Date)\n",
    "    df['High'] = df['high'].astype(float)\n",
    "    df['Low'] = df['Low'].astype(float)\n",
    "    df['Close'] = df['Close'].astype(float)\n",
    "    df['Volume'] = df['Volume'].astype(int)\n",
    "    df['Change(%)'] = df['Change(%)'].astype(float)\n"
   ]
  },
  {
   "cell_type": "code",
   "execution_count": 5,
   "id": "b06b271a-d204-4c81-b095-18781603a72e",
   "metadata": {},
   "outputs": [],
   "source": [
    "column_names = ['Date','High','Low','Close','Volume','Change(%)']"
   ]
  },
  {
   "cell_type": "code",
   "execution_count": 9,
   "id": "475721ee-f285-4735-8dd9-bdffea906053",
   "metadata": {},
   "outputs": [],
   "source": [
    "df.columns = column_names\n",
    "df['Date'] = pd.to_datetime(df.Date)"
   ]
  },
  {
   "cell_type": "code",
   "execution_count": 25,
   "id": "7fef03a7-eaa6-44e0-86e9-0bb74b8e7b4e",
   "metadata": {},
   "outputs": [
    {
     "name": "stdout",
     "output_type": "stream",
     "text": [
      "<class 'pandas.core.frame.DataFrame'>\n",
      "RangeIndex: 3060 entries, 0 to 3059\n",
      "Data columns (total 6 columns):\n",
      " #   Column     Non-Null Count  Dtype         \n",
      "---  ------     --------------  -----         \n",
      " 0   Date       3060 non-null   datetime64[ns]\n",
      " 1   High       3060 non-null   object        \n",
      " 2   Low        3060 non-null   object        \n",
      " 3   Close      3060 non-null   object        \n",
      " 4   Volume     3060 non-null   int64         \n",
      " 5   Change(%)  3060 non-null   object        \n",
      "dtypes: datetime64[ns](1), int64(1), object(4)\n",
      "memory usage: 143.6+ KB\n"
     ]
    }
   ],
   "source": [
    "df.info()"
   ]
  },
  {
   "cell_type": "code",
   "execution_count": 14,
   "id": "6983a798-ed2d-4379-82da-b58de6373404",
   "metadata": {},
   "outputs": [
    {
     "data": {
      "text/plain": [
       "(3060, 6)"
      ]
     },
     "execution_count": 14,
     "metadata": {},
     "output_type": "execute_result"
    }
   ],
   "source": [
    "df.shape"
   ]
  },
  {
   "cell_type": "code",
   "execution_count": 21,
   "id": "4f961ea1-761e-4a03-83c0-16c6b7f1a7b9",
   "metadata": {},
   "outputs": [
    {
     "data": {
      "text/plain": [
       "Date         0\n",
       "High         0\n",
       "Low          0\n",
       "Close        0\n",
       "Volume       0\n",
       "Change(%)    0\n",
       "dtype: int64"
      ]
     },
     "execution_count": 21,
     "metadata": {},
     "output_type": "execute_result"
    }
   ],
   "source": [
    "df.isnull().sum()"
   ]
  },
  {
   "cell_type": "code",
   "execution_count": 22,
   "id": "d24d223e-8674-4294-82f8-55989366a643",
   "metadata": {},
   "outputs": [
    {
     "data": {
      "text/plain": [
       "Date         False\n",
       "High         False\n",
       "Low          False\n",
       "Close        False\n",
       "Volume       False\n",
       "Change(%)    False\n",
       "dtype: bool"
      ]
     },
     "execution_count": 22,
     "metadata": {},
     "output_type": "execute_result"
    }
   ],
   "source": [
    "df.isna().any()"
   ]
  },
  {
   "cell_type": "code",
   "execution_count": 24,
   "id": "e80dc1d3-b88e-4cff-8dc4-e308a7c57b70",
   "metadata": {},
   "outputs": [
    {
     "data": {
      "text/html": [
       "<div>\n",
       "<style scoped>\n",
       "    .dataframe tbody tr th:only-of-type {\n",
       "        vertical-align: middle;\n",
       "    }\n",
       "\n",
       "    .dataframe tbody tr th {\n",
       "        vertical-align: top;\n",
       "    }\n",
       "\n",
       "    .dataframe thead th {\n",
       "        text-align: right;\n",
       "    }\n",
       "</style>\n",
       "<table border=\"1\" class=\"dataframe\">\n",
       "  <thead>\n",
       "    <tr style=\"text-align: right;\">\n",
       "      <th></th>\n",
       "      <th>Date</th>\n",
       "      <th>Volume</th>\n",
       "    </tr>\n",
       "  </thead>\n",
       "  <tbody>\n",
       "    <tr>\n",
       "      <th>count</th>\n",
       "      <td>3060</td>\n",
       "      <td>3060.000000</td>\n",
       "    </tr>\n",
       "    <tr>\n",
       "      <th>mean</th>\n",
       "      <td>2017-02-06 16:11:45.882352896</td>\n",
       "      <td>25070.958170</td>\n",
       "    </tr>\n",
       "    <tr>\n",
       "      <th>min</th>\n",
       "      <td>2010-04-26 00:00:00</td>\n",
       "      <td>20.000000</td>\n",
       "    </tr>\n",
       "    <tr>\n",
       "      <th>25%</th>\n",
       "      <td>2013-09-14 06:00:00</td>\n",
       "      <td>1783.500000</td>\n",
       "    </tr>\n",
       "    <tr>\n",
       "      <th>50%</th>\n",
       "      <td>2017-02-12 12:00:00</td>\n",
       "      <td>5385.000000</td>\n",
       "    </tr>\n",
       "    <tr>\n",
       "      <th>75%</th>\n",
       "      <td>2020-08-10 06:00:00</td>\n",
       "      <td>28422.000000</td>\n",
       "    </tr>\n",
       "    <tr>\n",
       "      <th>max</th>\n",
       "      <td>2023-11-05 00:00:00</td>\n",
       "      <td>705430.000000</td>\n",
       "    </tr>\n",
       "    <tr>\n",
       "      <th>std</th>\n",
       "      <td>NaN</td>\n",
       "      <td>47485.234401</td>\n",
       "    </tr>\n",
       "  </tbody>\n",
       "</table>\n",
       "</div>"
      ],
      "text/plain": [
       "                                Date         Volume\n",
       "count                           3060    3060.000000\n",
       "mean   2017-02-06 16:11:45.882352896   25070.958170\n",
       "min              2010-04-26 00:00:00      20.000000\n",
       "25%              2013-09-14 06:00:00    1783.500000\n",
       "50%              2017-02-12 12:00:00    5385.000000\n",
       "75%              2020-08-10 06:00:00   28422.000000\n",
       "max              2023-11-05 00:00:00  705430.000000\n",
       "std                              NaN   47485.234401"
      ]
     },
     "execution_count": 24,
     "metadata": {},
     "output_type": "execute_result"
    }
   ],
   "source": [
    "df.describe()"
   ]
  },
  {
   "cell_type": "code",
   "execution_count": null,
   "id": "bb3308e1-1fac-4d19-8497-f06c18d7269f",
   "metadata": {},
   "outputs": [],
   "source": []
  }
 ],
 "metadata": {
  "kernelspec": {
   "display_name": "Python 3 (ipykernel)",
   "language": "python",
   "name": "python3"
  },
  "language_info": {
   "codemirror_mode": {
    "name": "ipython",
    "version": 3
   },
   "file_extension": ".py",
   "mimetype": "text/x-python",
   "name": "python",
   "nbconvert_exporter": "python",
   "pygments_lexer": "ipython3",
   "version": "3.10.12"
  }
 },
 "nbformat": 4,
 "nbformat_minor": 5
}
